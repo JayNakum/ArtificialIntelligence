{
  "nbformat": 4,
  "nbformat_minor": 0,
  "metadata": {
    "colab": {
      "provenance": []
    },
    "kernelspec": {
      "name": "python3",
      "display_name": "Python 3"
    },
    "language_info": {
      "name": "python"
    },
    "accelerator": "GPU",
    "gpuClass": "standard"
  },
  "cells": [
    {
      "cell_type": "code",
      "execution_count": 1,
      "metadata": {
        "id": "DVLMPsPsONH2",
        "colab": {
          "base_uri": "https://localhost:8080/"
        },
        "outputId": "0eadfb07-95d4-4337-e164-be63a6846640"
      },
      "outputs": [
        {
          "output_type": "stream",
          "name": "stdout",
          "text": [
            "Mounted at /content/drive\n"
          ]
        }
      ],
      "source": [
        "from google.colab import drive\n",
        "drive.mount('/content/drive')"
      ]
    },
    {
      "cell_type": "code",
      "source": [
        "WEATHER_BHOPAL_CSV = '/content/drive/MyDrive/Dev/AI/datasets/Weather_Bhopal.csv'"
      ],
      "metadata": {
        "id": "HAY7hlmLPNkF"
      },
      "execution_count": 2,
      "outputs": []
    },
    {
      "cell_type": "code",
      "source": [
        "import numpy as np\n",
        "import pandas as pd\n",
        "import matplotlib.pyplot as plt\n",
        "from sklearn.model_selection import train_test_split\n",
        "from keras.preprocessing.sequence import TimeseriesGenerator\n",
        "from sklearn.preprocessing import MinMaxScaler"
      ],
      "metadata": {
        "id": "gO725jryQeKu"
      },
      "execution_count": 3,
      "outputs": []
    },
    {
      "cell_type": "code",
      "source": [
        "data = pd.read_csv(WEATHER_BHOPAL_CSV)\n",
        "data.head()"
      ],
      "metadata": {
        "colab": {
          "base_uri": "https://localhost:8080/",
          "height": 206
        },
        "id": "6QkFidb8RIsw",
        "outputId": "5c018a8c-ea60-4124-d553-45aa607ddabc"
      },
      "execution_count": 5,
      "outputs": [
        {
          "output_type": "execute_result",
          "data": {
            "text/plain": [
              "       DATE  MAX_TEMP  MIN_TEMP  RAINFALL_24_HRS\n",
              "0  1/1/2020      18.5       9.7              0.0\n",
              "1  1/2/2020      20.3      12.0              0.0\n",
              "2  1/3/2020      20.7      14.0              0.0\n",
              "3  1/4/2020      20.5      11.0              0.0\n",
              "4  1/5/2020      17.0       7.2              0.0"
            ],
            "text/html": [
              "\n",
              "  <div id=\"df-469865ff-865e-4536-9293-d8d1dd58a417\">\n",
              "    <div class=\"colab-df-container\">\n",
              "      <div>\n",
              "<style scoped>\n",
              "    .dataframe tbody tr th:only-of-type {\n",
              "        vertical-align: middle;\n",
              "    }\n",
              "\n",
              "    .dataframe tbody tr th {\n",
              "        vertical-align: top;\n",
              "    }\n",
              "\n",
              "    .dataframe thead th {\n",
              "        text-align: right;\n",
              "    }\n",
              "</style>\n",
              "<table border=\"1\" class=\"dataframe\">\n",
              "  <thead>\n",
              "    <tr style=\"text-align: right;\">\n",
              "      <th></th>\n",
              "      <th>DATE</th>\n",
              "      <th>MAX_TEMP</th>\n",
              "      <th>MIN_TEMP</th>\n",
              "      <th>RAINFALL_24_HRS</th>\n",
              "    </tr>\n",
              "  </thead>\n",
              "  <tbody>\n",
              "    <tr>\n",
              "      <th>0</th>\n",
              "      <td>1/1/2020</td>\n",
              "      <td>18.5</td>\n",
              "      <td>9.7</td>\n",
              "      <td>0.0</td>\n",
              "    </tr>\n",
              "    <tr>\n",
              "      <th>1</th>\n",
              "      <td>1/2/2020</td>\n",
              "      <td>20.3</td>\n",
              "      <td>12.0</td>\n",
              "      <td>0.0</td>\n",
              "    </tr>\n",
              "    <tr>\n",
              "      <th>2</th>\n",
              "      <td>1/3/2020</td>\n",
              "      <td>20.7</td>\n",
              "      <td>14.0</td>\n",
              "      <td>0.0</td>\n",
              "    </tr>\n",
              "    <tr>\n",
              "      <th>3</th>\n",
              "      <td>1/4/2020</td>\n",
              "      <td>20.5</td>\n",
              "      <td>11.0</td>\n",
              "      <td>0.0</td>\n",
              "    </tr>\n",
              "    <tr>\n",
              "      <th>4</th>\n",
              "      <td>1/5/2020</td>\n",
              "      <td>17.0</td>\n",
              "      <td>7.2</td>\n",
              "      <td>0.0</td>\n",
              "    </tr>\n",
              "  </tbody>\n",
              "</table>\n",
              "</div>\n",
              "      <button class=\"colab-df-convert\" onclick=\"convertToInteractive('df-469865ff-865e-4536-9293-d8d1dd58a417')\"\n",
              "              title=\"Convert this dataframe to an interactive table.\"\n",
              "              style=\"display:none;\">\n",
              "        \n",
              "  <svg xmlns=\"http://www.w3.org/2000/svg\" height=\"24px\"viewBox=\"0 0 24 24\"\n",
              "       width=\"24px\">\n",
              "    <path d=\"M0 0h24v24H0V0z\" fill=\"none\"/>\n",
              "    <path d=\"M18.56 5.44l.94 2.06.94-2.06 2.06-.94-2.06-.94-.94-2.06-.94 2.06-2.06.94zm-11 1L8.5 8.5l.94-2.06 2.06-.94-2.06-.94L8.5 2.5l-.94 2.06-2.06.94zm10 10l.94 2.06.94-2.06 2.06-.94-2.06-.94-.94-2.06-.94 2.06-2.06.94z\"/><path d=\"M17.41 7.96l-1.37-1.37c-.4-.4-.92-.59-1.43-.59-.52 0-1.04.2-1.43.59L10.3 9.45l-7.72 7.72c-.78.78-.78 2.05 0 2.83L4 21.41c.39.39.9.59 1.41.59.51 0 1.02-.2 1.41-.59l7.78-7.78 2.81-2.81c.8-.78.8-2.07 0-2.86zM5.41 20L4 18.59l7.72-7.72 1.47 1.35L5.41 20z\"/>\n",
              "  </svg>\n",
              "      </button>\n",
              "      \n",
              "  <style>\n",
              "    .colab-df-container {\n",
              "      display:flex;\n",
              "      flex-wrap:wrap;\n",
              "      gap: 12px;\n",
              "    }\n",
              "\n",
              "    .colab-df-convert {\n",
              "      background-color: #E8F0FE;\n",
              "      border: none;\n",
              "      border-radius: 50%;\n",
              "      cursor: pointer;\n",
              "      display: none;\n",
              "      fill: #1967D2;\n",
              "      height: 32px;\n",
              "      padding: 0 0 0 0;\n",
              "      width: 32px;\n",
              "    }\n",
              "\n",
              "    .colab-df-convert:hover {\n",
              "      background-color: #E2EBFA;\n",
              "      box-shadow: 0px 1px 2px rgba(60, 64, 67, 0.3), 0px 1px 3px 1px rgba(60, 64, 67, 0.15);\n",
              "      fill: #174EA6;\n",
              "    }\n",
              "\n",
              "    [theme=dark] .colab-df-convert {\n",
              "      background-color: #3B4455;\n",
              "      fill: #D2E3FC;\n",
              "    }\n",
              "\n",
              "    [theme=dark] .colab-df-convert:hover {\n",
              "      background-color: #434B5C;\n",
              "      box-shadow: 0px 1px 3px 1px rgba(0, 0, 0, 0.15);\n",
              "      filter: drop-shadow(0px 1px 2px rgba(0, 0, 0, 0.3));\n",
              "      fill: #FFFFFF;\n",
              "    }\n",
              "  </style>\n",
              "\n",
              "      <script>\n",
              "        const buttonEl =\n",
              "          document.querySelector('#df-469865ff-865e-4536-9293-d8d1dd58a417 button.colab-df-convert');\n",
              "        buttonEl.style.display =\n",
              "          google.colab.kernel.accessAllowed ? 'block' : 'none';\n",
              "\n",
              "        async function convertToInteractive(key) {\n",
              "          const element = document.querySelector('#df-469865ff-865e-4536-9293-d8d1dd58a417');\n",
              "          const dataTable =\n",
              "            await google.colab.kernel.invokeFunction('convertToInteractive',\n",
              "                                                     [key], {});\n",
              "          if (!dataTable) return;\n",
              "\n",
              "          const docLinkHtml = 'Like what you see? Visit the ' +\n",
              "            '<a target=\"_blank\" href=https://colab.research.google.com/notebooks/data_table.ipynb>data table notebook</a>'\n",
              "            + ' to learn more about interactive tables.';\n",
              "          element.innerHTML = '';\n",
              "          dataTable['output_type'] = 'display_data';\n",
              "          await google.colab.output.renderOutput(dataTable, element);\n",
              "          const docLink = document.createElement('div');\n",
              "          docLink.innerHTML = docLinkHtml;\n",
              "          element.appendChild(docLink);\n",
              "        }\n",
              "      </script>\n",
              "    </div>\n",
              "  </div>\n",
              "  "
            ]
          },
          "metadata": {},
          "execution_count": 5
        }
      ]
    },
    {
      "cell_type": "code",
      "source": [
        "data.set_index('DATE')[[\"MAX_TEMP\",\"MIN_TEMP\",\"RAINFALL_24_HRS\"]].plot(subplots=True);"
      ],
      "metadata": {
        "colab": {
          "base_uri": "https://localhost:8080/",
          "height": 449
        },
        "id": "piZMgwd6RP0p",
        "outputId": "73c3f37a-6342-4d65-917f-b53bf443d71c"
      },
      "execution_count": 9,
      "outputs": [
        {
          "output_type": "display_data",
          "data": {
            "text/plain": [
              "<Figure size 640x480 with 3 Axes>"
            ],
            "image/png": "[encoded data removed]"
          },
          "metadata": {}
        }
      ]
    },
    {
      "cell_type": "code",
      "source": [
        "input_data = data[[\"MAX_TEMP\",\"MIN_TEMP\",\"RAINFALL_24_HRS\"]]\n",
        "input_data.head()"
      ],
      "metadata": {
        "colab": {
          "base_uri": "https://localhost:8080/",
          "height": 206
        },
        "id": "g0UdOpkhRXdD",
        "outputId": "fae59120-4875-44a6-9cb6-c114e7db9c8b"
      },
      "execution_count": 10,
      "outputs": [
        {
          "output_type": "execute_result",
          "data": {
            "text/plain": [
              "   MAX_TEMP  MIN_TEMP  RAINFALL_24_HRS\n",
              "0      18.5       9.7              0.0\n",
              "1      20.3      12.0              0.0\n",
              "2      20.7      14.0              0.0\n",
              "3      20.5      11.0              0.0\n",
              "4      17.0       7.2              0.0"
            ],
            "text/html": [
              "\n",
              "  <div id=\"df-bdf5f994-c455-4251-b014-275473469d19\">\n",
              "    <div class=\"colab-df-container\">\n",
              "      <div>\n",
              "<style scoped>\n",
              "    .dataframe tbody tr th:only-of-type {\n",
              "        vertical-align: middle;\n",
              "    }\n",
              "\n",
              "    .dataframe tbody tr th {\n",
              "        vertical-align: top;\n",
              "    }\n",
              "\n",
              "    .dataframe thead th {\n",
              "        text-align: right;\n",
              "    }\n",
              "</style>\n",
              "<table border=\"1\" class=\"dataframe\">\n",
              "  <thead>\n",
              "    <tr style=\"text-align: right;\">\n",
              "      <th></th>\n",
              "      <th>MAX_TEMP</th>\n",
              "      <th>MIN_TEMP</th>\n",
              "      <th>RAINFALL_24_HRS</th>\n",
              "    </tr>\n",
              "  </thead>\n",
              "  <tbody>\n",
              "    <tr>\n",
              "      <th>0</th>\n",
              "      <td>18.5</td>\n",
              "      <td>9.7</td>\n",
              "      <td>0.0</td>\n",
              "    </tr>\n",
              "    <tr>\n",
              "      <th>1</th>\n",
              "      <td>20.3</td>\n",
              "      <td>12.0</td>\n",
              "      <td>0.0</td>\n",
              "    </tr>\n",
              "    <tr>\n",
              "      <th>2</th>\n",
              "      <td>20.7</td>\n",
              "      <td>14.0</td>\n",
              "      <td>0.0</td>\n",
              "    </tr>\n",
              "    <tr>\n",
              "      <th>3</th>\n",
              "      <td>20.5</td>\n",
              "      <td>11.0</td>\n",
              "      <td>0.0</td>\n",
              "    </tr>\n",
              "    <tr>\n",
              "      <th>4</th>\n",
              "      <td>17.0</td>\n",
              "      <td>7.2</td>\n",
              "      <td>0.0</td>\n",
              "    </tr>\n",
              "  </tbody>\n",
              "</table>\n",
              "</div>\n",
              "      <button class=\"colab-df-convert\" onclick=\"convertToInteractive('df-bdf5f994-c455-4251-b014-275473469d19')\"\n",
              "              title=\"Convert this dataframe to an interactive table.\"\n",
              "              style=\"display:none;\">\n",
              "        \n",
              "  <svg xmlns=\"http://www.w3.org/2000/svg\" height=\"24px\"viewBox=\"0 0 24 24\"\n",
              "       width=\"24px\">\n",
              "    <path d=\"M0 0h24v24H0V0z\" fill=\"none\"/>\n",
              "    <path d=\"M18.56 5.44l.94 2.06.94-2.06 2.06-.94-2.06-.94-.94-2.06-.94 2.06-2.06.94zm-11 1L8.5 8.5l.94-2.06 2.06-.94-2.06-.94L8.5 2.5l-.94 2.06-2.06.94zm10 10l.94 2.06.94-2.06 2.06-.94-2.06-.94-.94-2.06-.94 2.06-2.06.94z\"/><path d=\"M17.41 7.96l-1.37-1.37c-.4-.4-.92-.59-1.43-.59-.52 0-1.04.2-1.43.59L10.3 9.45l-7.72 7.72c-.78.78-.78 2.05 0 2.83L4 21.41c.39.39.9.59 1.41.59.51 0 1.02-.2 1.41-.59l7.78-7.78 2.81-2.81c.8-.78.8-2.07 0-2.86zM5.41 20L4 18.59l7.72-7.72 1.47 1.35L5.41 20z\"/>\n",
              "  </svg>\n",
              "      </button>\n",
              "      \n",
              "  <style>\n",
              "    .colab-df-container {\n",
              "      display:flex;\n",
              "      flex-wrap:wrap;\n",
              "      gap: 12px;\n",
              "    }\n",
              "\n",
              "    .colab-df-convert {\n",
              "      background-color: #E8F0FE;\n",
              "      border: none;\n",
              "      border-radius: 50%;\n",
              "      cursor: pointer;\n",
              "      display: none;\n",
              "      fill: #1967D2;\n",
              "      height: 32px;\n",
              "      padding: 0 0 0 0;\n",
              "      width: 32px;\n",
              "    }\n",
              "\n",
              "    .colab-df-convert:hover {\n",
              "      background-color: #E2EBFA;\n",
              "      box-shadow: 0px 1px 2px rgba(60, 64, 67, 0.3), 0px 1px 3px 1px rgba(60, 64, 67, 0.15);\n",
              "      fill: #174EA6;\n",
              "    }\n",
              "\n",
              "    [theme=dark] .colab-df-convert {\n",
              "      background-color: #3B4455;\n",
              "      fill: #D2E3FC;\n",
              "    }\n",
              "\n",
              "    [theme=dark] .colab-df-convert:hover {\n",
              "      background-color: #434B5C;\n",
              "      box-shadow: 0px 1px 3px 1px rgba(0, 0, 0, 0.15);\n",
              "      filter: drop-shadow(0px 1px 2px rgba(0, 0, 0, 0.3));\n",
              "      fill: #FFFFFF;\n",
              "    }\n",
              "  </style>\n",
              "\n",
              "      <script>\n",
              "        const buttonEl =\n",
              "          document.querySelector('#df-bdf5f994-c455-4251-b014-275473469d19 button.colab-df-convert');\n",
              "        buttonEl.style.display =\n",
              "          google.colab.kernel.accessAllowed ? 'block' : 'none';\n",
              "\n",
              "        async function convertToInteractive(key) {\n",
              "          const element = document.querySelector('#df-bdf5f994-c455-4251-b014-275473469d19');\n",
              "          const dataTable =\n",
              "            await google.colab.kernel.invokeFunction('convertToInteractive',\n",
              "                                                     [key], {});\n",
              "          if (!dataTable) return;\n",
              "\n",
              "          const docLinkHtml = 'Like what you see? Visit the ' +\n",
              "            '<a target=\"_blank\" href=https://colab.research.google.com/notebooks/data_table.ipynb>data table notebook</a>'\n",
              "            + ' to learn more about interactive tables.';\n",
              "          element.innerHTML = '';\n",
              "          dataTable['output_type'] = 'display_data';\n",
              "          await google.colab.output.renderOutput(dataTable, element);\n",
              "          const docLink = document.createElement('div');\n",
              "          docLink.innerHTML = docLinkHtml;\n",
              "          element.appendChild(docLink);\n",
              "        }\n",
              "      </script>\n",
              "    </div>\n",
              "  </div>\n",
              "  "
            ]
          },
          "metadata": {},
          "execution_count": 10
        }
      ]
    },
    {
      "cell_type": "code",
      "source": [
        "input_data.describe()"
      ],
      "metadata": {
        "colab": {
          "base_uri": "https://localhost:8080/",
          "height": 300
        },
        "id": "3kdefuu6Rygb",
        "outputId": "972aec9d-e5fe-4aaf-88de-b8a3089a1acc"
      },
      "execution_count": 12,
      "outputs": [
        {
          "output_type": "execute_result",
          "data": {
            "text/plain": [
              "         MAX_TEMP    MIN_TEMP  RAINFALL_24_HRS\n",
              "count  456.000000  456.000000        456.00000\n",
              "mean    32.059430   18.298465          2.05693\n",
              "std      6.042076    6.088542          9.35162\n",
              "min     17.000000    4.600000          0.00000\n",
              "25%     28.400000   13.400000          0.00000\n",
              "50%     32.500000   18.600000          0.00000\n",
              "75%     35.500000   24.000000          0.00000\n",
              "max     44.500000   29.900000        126.20000"
            ],
            "text/html": [
              "\n",
              "  <div id=\"df-c92d8f97-8236-4617-947f-f0f8149f9a4b\">\n",
              "    <div class=\"colab-df-container\">\n",
              "      <div>\n",
              "<style scoped>\n",
              "    .dataframe tbody tr th:only-of-type {\n",
              "        vertical-align: middle;\n",
              "    }\n",
              "\n",
              "    .dataframe tbody tr th {\n",
              "        vertical-align: top;\n",
              "    }\n",
              "\n",
              "    .dataframe thead th {\n",
              "        text-align: right;\n",
              "    }\n",
              "</style>\n",
              "<table border=\"1\" class=\"dataframe\">\n",
              "  <thead>\n",
              "    <tr style=\"text-align: right;\">\n",
              "      <th></th>\n",
              "      <th>MAX_TEMP</th>\n",
              "      <th>MIN_TEMP</th>\n",
              "      <th>RAINFALL_24_HRS</th>\n",
              "    </tr>\n",
              "  </thead>\n",
              "  <tbody>\n",
              "    <tr>\n",
              "      <th>count</th>\n",
              "      <td>456.000000</td>\n",
              "      <td>456.000000</td>\n",
              "      <td>456.00000</td>\n",
              "    </tr>\n",
              "    <tr>\n",
              "      <th>mean</th>\n",
              "      <td>32.059430</td>\n",
              "      <td>18.298465</td>\n",
              "      <td>2.05693</td>\n",
              "    </tr>\n",
              "    <tr>\n",
              "      <th>std</th>\n",
              "      <td>6.042076</td>\n",
              "      <td>6.088542</td>\n",
              "      <td>9.35162</td>\n",
              "    </tr>\n",
              "    <tr>\n",
              "      <th>min</th>\n",
              "      <td>17.000000</td>\n",
              "      <td>4.600000</td>\n",
              "      <td>0.00000</td>\n",
              "    </tr>\n",
              "    <tr>\n",
              "      <th>25%</th>\n",
              "      <td>28.400000</td>\n",
              "      <td>13.400000</td>\n",
              "      <td>0.00000</td>\n",
              "    </tr>\n",
              "    <tr>\n",
              "      <th>50%</th>\n",
              "      <td>32.500000</td>\n",
              "      <td>18.600000</td>\n",
              "      <td>0.00000</td>\n",
              "    </tr>\n",
              "    <tr>\n",
              "      <th>75%</th>\n",
              "      <td>35.500000</td>\n",
              "      <td>24.000000</td>\n",
              "      <td>0.00000</td>\n",
              "    </tr>\n",
              "    <tr>\n",
              "      <th>max</th>\n",
              "      <td>44.500000</td>\n",
              "      <td>29.900000</td>\n",
              "      <td>126.20000</td>\n",
              "    </tr>\n",
              "  </tbody>\n",
              "</table>\n",
              "</div>\n",
              "      <button class=\"colab-df-convert\" onclick=\"convertToInteractive('df-c92d8f97-8236-4617-947f-f0f8149f9a4b')\"\n",
              "              title=\"Convert this dataframe to an interactive table.\"\n",
              "              style=\"display:none;\">\n",
              "        \n",
              "  <svg xmlns=\"http://www.w3.org/2000/svg\" height=\"24px\"viewBox=\"0 0 24 24\"\n",
              "       width=\"24px\">\n",
              "    <path d=\"M0 0h24v24H0V0z\" fill=\"none\"/>\n",
              "    <path d=\"M18.56 5.44l.94 2.06.94-2.06 2.06-.94-2.06-.94-.94-2.06-.94 2.06-2.06.94zm-11 1L8.5 8.5l.94-2.06 2.06-.94-2.06-.94L8.5 2.5l-.94 2.06-2.06.94zm10 10l.94 2.06.94-2.06 2.06-.94-2.06-.94-.94-2.06-.94 2.06-2.06.94z\"/><path d=\"M17.41 7.96l-1.37-1.37c-.4-.4-.92-.59-1.43-.59-.52 0-1.04.2-1.43.59L10.3 9.45l-7.72 7.72c-.78.78-.78 2.05 0 2.83L4 21.41c.39.39.9.59 1.41.59.51 0 1.02-.2 1.41-.59l7.78-7.78 2.81-2.81c.8-.78.8-2.07 0-2.86zM5.41 20L4 18.59l7.72-7.72 1.47 1.35L5.41 20z\"/>\n",
              "  </svg>\n",
              "      </button>\n",
              "      \n",
              "  <style>\n",
              "    .colab-df-container {\n",
              "      display:flex;\n",
              "      flex-wrap:wrap;\n",
              "      gap: 12px;\n",
              "    }\n",
              "\n",
              "    .colab-df-convert {\n",
              "      background-color: #E8F0FE;\n",
              "      border: none;\n",
              "      border-radius: 50%;\n",
              "      cursor: pointer;\n",
              "      display: none;\n",
              "      fill: #1967D2;\n",
              "      height: 32px;\n",
              "      padding: 0 0 0 0;\n",
              "      width: 32px;\n",
              "    }\n",
              "\n",
              "    .colab-df-convert:hover {\n",
              "      background-color: #E2EBFA;\n",
              "      box-shadow: 0px 1px 2px rgba(60, 64, 67, 0.3), 0px 1px 3px 1px rgba(60, 64, 67, 0.15);\n",
              "      fill: #174EA6;\n",
              "    }\n",
              "\n",
              "    [theme=dark] .colab-df-convert {\n",
              "      background-color: #3B4455;\n",
              "      fill: #D2E3FC;\n",
              "    }\n",
              "\n",
              "    [theme=dark] .colab-df-convert:hover {\n",
              "      background-color: #434B5C;\n",
              "      box-shadow: 0px 1px 3px 1px rgba(0, 0, 0, 0.15);\n",
              "      filter: drop-shadow(0px 1px 2px rgba(0, 0, 0, 0.3));\n",
              "      fill: #FFFFFF;\n",
              "    }\n",
              "  </style>\n",
              "\n",
              "      <script>\n",
              "        const buttonEl =\n",
              "          document.querySelector('#df-c92d8f97-8236-4617-947f-f0f8149f9a4b button.colab-df-convert');\n",
              "        buttonEl.style.display =\n",
              "          google.colab.kernel.accessAllowed ? 'block' : 'none';\n",
              "\n",
              "        async function convertToInteractive(key) {\n",
              "          const element = document.querySelector('#df-c92d8f97-8236-4617-947f-f0f8149f9a4b');\n",
              "          const dataTable =\n",
              "            await google.colab.kernel.invokeFunction('convertToInteractive',\n",
              "                                                     [key], {});\n",
              "          if (!dataTable) return;\n",
              "\n",
              "          const docLinkHtml = 'Like what you see? Visit the ' +\n",
              "            '<a target=\"_blank\" href=https://colab.research.google.com/notebooks/data_table.ipynb>data table notebook</a>'\n",
              "            + ' to learn more about interactive tables.';\n",
              "          element.innerHTML = '';\n",
              "          dataTable['output_type'] = 'display_data';\n",
              "          await google.colab.output.renderOutput(dataTable, element);\n",
              "          const docLink = document.createElement('div');\n",
              "          docLink.innerHTML = docLinkHtml;\n",
              "          element.appendChild(docLink);\n",
              "        }\n",
              "      </script>\n",
              "    </div>\n",
              "  </div>\n",
              "  "
            ]
          },
          "metadata": {},
          "execution_count": 12
        }
      ]
    },
    {
      "cell_type": "code",
      "source": [
        "scaler = MinMaxScaler()\n",
        "scaled_data = scaler.fit_transform(input_data)"
      ],
      "metadata": {
        "id": "-64DS1d4SFp6"
      },
      "execution_count": 13,
      "outputs": []
    },
    {
      "cell_type": "code",
      "source": [
        "X = scaled_data\n",
        "Y = scaled_data[:, -1]"
      ],
      "metadata": {
        "id": "IfQbzJYqSVPI"
      },
      "execution_count": 16,
      "outputs": []
    },
    {
      "cell_type": "code",
      "source": [
        "xtrain, xtest, ytrain, ytest = train_test_split(X, Y, shuffle=False)"
      ],
      "metadata": {
        "id": "OjgzK7X4SbEE"
      },
      "execution_count": 17,
      "outputs": []
    },
    {
      "cell_type": "code",
      "source": [
        "TimeseriesGenerator(xtrain, ytrain, length=5, sampling_rate=1, batch_size=1)[0]"
      ],
      "metadata": {
        "colab": {
          "base_uri": "https://localhost:8080/"
        },
        "id": "8d1vU6rRSfQT",
        "outputId": "ea25df58-ca25-47a0-ae1c-250db28c6488"
      },
      "execution_count": 18,
      "outputs": [
        {
          "output_type": "execute_result",
          "data": {
            "text/plain": [
              "(array([[[0.05454545, 0.20158103, 0.        ],\n",
              "         [0.12      , 0.29249012, 0.        ],\n",
              "         [0.13454545, 0.3715415 , 0.        ],\n",
              "         [0.12727273, 0.25296443, 0.        ],\n",
              "         [0.        , 0.1027668 , 0.        ]]]),\n",
              " array([0.]))"
            ]
          },
          "metadata": {},
          "execution_count": 18
        }
      ]
    },
    {
      "cell_type": "code",
      "source": [
        "win_len=10\n",
        "train_generator = TimeseriesGenerator(xtrain, ytrain, length=win_len, sampling_rate=1, batch_size=32)\n",
        "test_generator = TimeseriesGenerator(xtest, ytest, length=win_len, sampling_rate=1, batch_size=32)"
      ],
      "metadata": {
        "id": "IsnTXkqdSrFc"
      },
      "execution_count": 19,
      "outputs": []
    },
    {
      "cell_type": "code",
      "source": [
        "from keras.models import Sequential\n",
        "from keras.layers import LSTM, Dense, Dropout\n",
        "import tensorflow as tf"
      ],
      "metadata": {
        "id": "uYxJN7fBS8EL"
      },
      "execution_count": 20,
      "outputs": []
    },
    {
      "cell_type": "code",
      "source": [
        "type(train_generator)"
      ],
      "metadata": {
        "colab": {
          "base_uri": "https://localhost:8080/"
        },
        "id": "aZOfCcDATBSB",
        "outputId": "c05759fa-a94c-4335-8c91-c4f1a91b35f0"
      },
      "execution_count": 21,
      "outputs": [
        {
          "output_type": "execute_result",
          "data": {
            "text/plain": [
              "keras.preprocessing.sequence.TimeseriesGenerator"
            ]
          },
          "metadata": {},
          "execution_count": 21
        }
      ]
    },
    {
      "cell_type": "code",
      "source": [
        "model = Sequential()\n",
        "model.add(LSTM(32, input_shape=(win_len, 3), activation='tanh', return_sequences=True))\n",
        "model.add(LSTM(32, activation='tanh', return_sequences=True))\n",
        "model.add(Dropout(0.2))\n",
        "model.add(LSTM(32, activation='tanh', return_sequences=True))\n",
        "model.add(Dropout(0.2))\n",
        "model.add(LSTM(32, activation='tanh', return_sequences=True))\n",
        "model.add(Dropout(0.2))\n",
        "model.add(LSTM(32, activation='tanh', return_sequences=True))\n",
        "model.add(Dropout(0.2))\n",
        "model.add(LSTM(32, activation='tanh', return_sequences=True))\n",
        "model.add(Dropout(0.2))\n",
        "model.add(LSTM(32, activation='tanh', return_sequences=True))\n",
        "model.add(Dropout(0.2))\n",
        "model.add(LSTM(32, activation='tanh', return_sequences=True))\n",
        "model.add(Dropout(0.2))\n",
        "model.add(LSTM(32, activation='tanh', return_sequences=False))\n",
        "model.add(Dense(5, activation='tanh'))\n",
        "model.add(Dense(3, activation='tanh'))\n",
        "model.add(Dense(1))\n",
        "model.summary()"
      ],
      "metadata": {
        "colab": {
          "base_uri": "https://localhost:8080/"
        },
        "id": "WMmO3P7STFR-",
        "outputId": "94fc14a1-5f5d-474b-ade2-35cc0bdd3e58"
      },
      "execution_count": 22,
      "outputs": [
        {
          "output_type": "stream",
          "name": "stdout",
          "text": [
            "Model: \"sequential\"\n",
            "_________________________________________________________________\n",
            " Layer (type)                Output Shape              Param #   \n",
            "=================================================================\n",
            " lstm (LSTM)                 (None, 10, 32)            4608      \n",
            "                                                                 \n",
            " lstm_1 (LSTM)               (None, 10, 32)            8320      \n",
            "                                                                 \n",
            " dropout (Dropout)           (None, 10, 32)            0         \n",
            "                                                                 \n",
            " lstm_2 (LSTM)               (None, 10, 32)            8320      \n",
            "                                                                 \n",
            " dropout_1 (Dropout)         (None, 10, 32)            0         \n",
            "                                                                 \n",
            " lstm_3 (LSTM)               (None, 10, 32)            8320      \n",
            "                                                                 \n",
            " dropout_2 (Dropout)         (None, 10, 32)            0         \n",
            "                                                                 \n",
            " lstm_4 (LSTM)               (None, 10, 32)            8320      \n",
            "                                                                 \n",
            " dropout_3 (Dropout)         (None, 10, 32)            0         \n",
            "                                                                 \n",
            " lstm_5 (LSTM)               (None, 10, 32)            8320      \n",
            "                                                                 \n",
            " dropout_4 (Dropout)         (None, 10, 32)            0         \n",
            "                                                                 \n",
            " lstm_6 (LSTM)               (None, 10, 32)            8320      \n",
            "                                                                 \n",
            " dropout_5 (Dropout)         (None, 10, 32)            0         \n",
            "                                                                 \n",
            " lstm_7 (LSTM)               (None, 10, 32)            8320      \n",
            "                                                                 \n",
            " dropout_6 (Dropout)         (None, 10, 32)            0         \n",
            "                                                                 \n",
            " lstm_8 (LSTM)               (None, 32)                8320      \n",
            "                                                                 \n",
            " dense (Dense)               (None, 5)                 165       \n",
            "                                                                 \n",
            " dense_1 (Dense)             (None, 3)                 18        \n",
            "                                                                 \n",
            " dense_2 (Dense)             (None, 1)                 4         \n",
            "                                                                 \n",
            "=================================================================\n",
            "Total params: 71,355\n",
            "Trainable params: 71,355\n",
            "Non-trainable params: 0\n",
            "_________________________________________________________________\n"
          ]
        }
      ]
    },
    {
      "cell_type": "code",
      "source": [
        "from keras.callbacks import EarlyStopping"
      ],
      "metadata": {
        "id": "f3N1G7dJTNQE"
      },
      "execution_count": 23,
      "outputs": []
    },
    {
      "cell_type": "code",
      "source": [
        "early_stopping = EarlyStopping(monitor='val_loss', mode='min', patience=3)\n",
        "model.compile(loss=tf.keras.losses.MeanSquaredError(), optimizer='adam', metrics=[tf.keras.metrics.MeanAbsoluteError()])"
      ],
      "metadata": {
        "id": "oQ3vVIbbTQhW"
      },
      "execution_count": 24,
      "outputs": []
    },
    {
      "cell_type": "code",
      "source": [
        "history = model.fit_generator(train_generator, epochs=100, validation_data=test_generator, shuffle=False)"
      ],
      "metadata": {
        "colab": {
          "base_uri": "https://localhost:8080/"
        },
        "id": "in0bLd-3TXqk",
        "outputId": "3fe4bd8a-4518-4288-b892-5959be83f2ff"
      },
      "execution_count": 25,
      "outputs": [
        {
          "output_type": "stream",
          "name": "stderr",
          "text": [
            "<ipython-input-25-abdbc0862a38>:1: UserWarning: `Model.fit_generator` is deprecated and will be removed in a future version. Please use `Model.fit`, which supports generators.\n",
            "  history = model.fit_generator(train_generator, epochs=100, validation_data=test_generator, shuffle=False)\n"
          ]
        },
        {
          "output_type": "stream",
          "name": "stdout",
          "text": [
            "Epoch 1/100\n",
            "11/11 [==============================] - 33s 788ms/step - loss: 0.0082 - mean_absolute_error: 0.0382 - val_loss: 0.0024 - val_mean_absolute_error: 0.0489\n",
            "Epoch 2/100\n",
            "11/11 [==============================] - 2s 153ms/step - loss: 0.0080 - mean_absolute_error: 0.0360 - val_loss: 3.8150e-04 - val_mean_absolute_error: 0.0162\n",
            "Epoch 3/100\n",
            "11/11 [==============================] - 1s 74ms/step - loss: 0.0075 - mean_absolute_error: 0.0338 - val_loss: 0.0011 - val_mean_absolute_error: 0.0318\n",
            "Epoch 4/100\n",
            "11/11 [==============================] - 1s 57ms/step - loss: 0.0076 - mean_absolute_error: 0.0365 - val_loss: 5.7941e-04 - val_mean_absolute_error: 0.0224\n",
            "Epoch 5/100\n",
            "11/11 [==============================] - 1s 58ms/step - loss: 0.0075 - mean_absolute_error: 0.0336 - val_loss: 7.5195e-04 - val_mean_absolute_error: 0.0263\n",
            "Epoch 6/100\n",
            "11/11 [==============================] - 1s 79ms/step - loss: 0.0075 - mean_absolute_error: 0.0359 - val_loss: 7.0399e-04 - val_mean_absolute_error: 0.0253\n",
            "Epoch 7/100\n",
            "11/11 [==============================] - 1s 93ms/step - loss: 0.0075 - mean_absolute_error: 0.0345 - val_loss: 6.8667e-04 - val_mean_absolute_error: 0.0249\n",
            "Epoch 8/100\n",
            "11/11 [==============================] - 1s 99ms/step - loss: 0.0075 - mean_absolute_error: 0.0351 - val_loss: 7.1442e-04 - val_mean_absolute_error: 0.0255\n",
            "Epoch 9/100\n",
            "11/11 [==============================] - 1s 91ms/step - loss: 0.0075 - mean_absolute_error: 0.0349 - val_loss: 6.9501e-04 - val_mean_absolute_error: 0.0251\n",
            "Epoch 10/100\n",
            "11/11 [==============================] - 1s 59ms/step - loss: 0.0075 - mean_absolute_error: 0.0349 - val_loss: 7.0355e-04 - val_mean_absolute_error: 0.0253\n",
            "Epoch 11/100\n",
            "11/11 [==============================] - 1s 111ms/step - loss: 0.0075 - mean_absolute_error: 0.0350 - val_loss: 6.8988e-04 - val_mean_absolute_error: 0.0250\n",
            "Epoch 12/100\n",
            "11/11 [==============================] - 1s 118ms/step - loss: 0.0075 - mean_absolute_error: 0.0349 - val_loss: 6.9171e-04 - val_mean_absolute_error: 0.0250\n",
            "Epoch 13/100\n",
            "11/11 [==============================] - 1s 118ms/step - loss: 0.0075 - mean_absolute_error: 0.0350 - val_loss: 6.9222e-04 - val_mean_absolute_error: 0.0250\n",
            "Epoch 14/100\n",
            "11/11 [==============================] - 2s 137ms/step - loss: 0.0075 - mean_absolute_error: 0.0349 - val_loss: 6.8318e-04 - val_mean_absolute_error: 0.0248\n",
            "Epoch 15/100\n",
            "11/11 [==============================] - 2s 170ms/step - loss: 0.0075 - mean_absolute_error: 0.0350 - val_loss: 6.7116e-04 - val_mean_absolute_error: 0.0246\n",
            "Epoch 16/100\n",
            "11/11 [==============================] - 2s 146ms/step - loss: 0.0075 - mean_absolute_error: 0.0349 - val_loss: 6.6204e-04 - val_mean_absolute_error: 0.0244\n",
            "Epoch 17/100\n",
            "11/11 [==============================] - 1s 128ms/step - loss: 0.0075 - mean_absolute_error: 0.0352 - val_loss: 6.1736e-04 - val_mean_absolute_error: 0.0233\n",
            "Epoch 18/100\n",
            "11/11 [==============================] - 1s 103ms/step - loss: 0.0074 - mean_absolute_error: 0.0351 - val_loss: 4.2564e-04 - val_mean_absolute_error: 0.0171\n",
            "Epoch 19/100\n",
            "11/11 [==============================] - 1s 116ms/step - loss: 0.0073 - mean_absolute_error: 0.0336 - val_loss: 3.6427e-04 - val_mean_absolute_error: 0.0135\n",
            "Epoch 20/100\n",
            "11/11 [==============================] - 1s 126ms/step - loss: 0.0072 - mean_absolute_error: 0.0350 - val_loss: 2.7529e-04 - val_mean_absolute_error: 0.0088\n",
            "Epoch 21/100\n",
            "11/11 [==============================] - 1s 89ms/step - loss: 0.0071 - mean_absolute_error: 0.0332 - val_loss: 3.9941e-04 - val_mean_absolute_error: 0.0131\n",
            "Epoch 22/100\n",
            "11/11 [==============================] - 1s 58ms/step - loss: 0.0072 - mean_absolute_error: 0.0363 - val_loss: 2.6982e-04 - val_mean_absolute_error: 0.0073\n",
            "Epoch 23/100\n",
            "11/11 [==============================] - 1s 101ms/step - loss: 0.0071 - mean_absolute_error: 0.0327 - val_loss: 3.2194e-04 - val_mean_absolute_error: 0.0107\n",
            "Epoch 24/100\n",
            "11/11 [==============================] - 1s 104ms/step - loss: 0.0071 - mean_absolute_error: 0.0377 - val_loss: 5.1237e-04 - val_mean_absolute_error: 0.0152\n",
            "Epoch 25/100\n",
            "11/11 [==============================] - 1s 92ms/step - loss: 0.0072 - mean_absolute_error: 0.0389 - val_loss: 6.6330e-04 - val_mean_absolute_error: 0.0243\n",
            "Epoch 26/100\n",
            "11/11 [==============================] - 1s 105ms/step - loss: 0.0073 - mean_absolute_error: 0.0331 - val_loss: 2.9107e-04 - val_mean_absolute_error: 0.0093\n",
            "Epoch 27/100\n",
            "11/11 [==============================] - 1s 65ms/step - loss: 0.0071 - mean_absolute_error: 0.0358 - val_loss: 4.2473e-04 - val_mean_absolute_error: 0.0126\n",
            "Epoch 28/100\n",
            "11/11 [==============================] - 1s 56ms/step - loss: 0.0069 - mean_absolute_error: 0.0356 - val_loss: 2.8721e-04 - val_mean_absolute_error: 0.0079\n",
            "Epoch 29/100\n",
            "11/11 [==============================] - 1s 66ms/step - loss: 0.0070 - mean_absolute_error: 0.0342 - val_loss: 3.3715e-04 - val_mean_absolute_error: 0.0093\n",
            "Epoch 30/100\n",
            "11/11 [==============================] - 1s 57ms/step - loss: 0.0071 - mean_absolute_error: 0.0336 - val_loss: 2.7924e-04 - val_mean_absolute_error: 0.0081\n",
            "Epoch 31/100\n",
            "11/11 [==============================] - 1s 56ms/step - loss: 0.0071 - mean_absolute_error: 0.0330 - val_loss: 2.8071e-04 - val_mean_absolute_error: 0.0067\n",
            "Epoch 32/100\n",
            "11/11 [==============================] - 1s 67ms/step - loss: 0.0071 - mean_absolute_error: 0.0331 - val_loss: 2.8808e-04 - val_mean_absolute_error: 0.0068\n",
            "Epoch 33/100\n",
            "11/11 [==============================] - 1s 68ms/step - loss: 0.0070 - mean_absolute_error: 0.0328 - val_loss: 2.7388e-04 - val_mean_absolute_error: 0.0067\n",
            "Epoch 34/100\n",
            "11/11 [==============================] - 1s 58ms/step - loss: 0.0069 - mean_absolute_error: 0.0335 - val_loss: 3.0227e-04 - val_mean_absolute_error: 0.0078\n",
            "Epoch 35/100\n",
            "11/11 [==============================] - 1s 63ms/step - loss: 0.0071 - mean_absolute_error: 0.0339 - val_loss: 2.8606e-04 - val_mean_absolute_error: 0.0064\n",
            "Epoch 36/100\n",
            "11/11 [==============================] - 1s 77ms/step - loss: 0.0071 - mean_absolute_error: 0.0333 - val_loss: 3.4394e-04 - val_mean_absolute_error: 0.0137\n",
            "Epoch 37/100\n",
            "11/11 [==============================] - 2s 164ms/step - loss: 0.0070 - mean_absolute_error: 0.0361 - val_loss: 4.9629e-04 - val_mean_absolute_error: 0.0148\n",
            "Epoch 38/100\n",
            "11/11 [==============================] - 2s 166ms/step - loss: 0.0070 - mean_absolute_error: 0.0365 - val_loss: 3.0861e-04 - val_mean_absolute_error: 0.0121\n",
            "Epoch 39/100\n",
            "11/11 [==============================] - 1s 118ms/step - loss: 0.0071 - mean_absolute_error: 0.0332 - val_loss: 2.9160e-04 - val_mean_absolute_error: 0.0068\n",
            "Epoch 40/100\n",
            "11/11 [==============================] - 1s 58ms/step - loss: 0.0070 - mean_absolute_error: 0.0342 - val_loss: 2.7655e-04 - val_mean_absolute_error: 0.0058\n",
            "Epoch 41/100\n",
            "11/11 [==============================] - 1s 76ms/step - loss: 0.0070 - mean_absolute_error: 0.0326 - val_loss: 2.7354e-04 - val_mean_absolute_error: 0.0062\n",
            "Epoch 42/100\n",
            "11/11 [==============================] - 1s 62ms/step - loss: 0.0070 - mean_absolute_error: 0.0339 - val_loss: 2.9189e-04 - val_mean_absolute_error: 0.0067\n",
            "Epoch 43/100\n",
            "11/11 [==============================] - 1s 68ms/step - loss: 0.0070 - mean_absolute_error: 0.0335 - val_loss: 2.6466e-04 - val_mean_absolute_error: 0.0070\n",
            "Epoch 44/100\n",
            "11/11 [==============================] - 1s 60ms/step - loss: 0.0070 - mean_absolute_error: 0.0321 - val_loss: 2.6987e-04 - val_mean_absolute_error: 0.0059\n",
            "Epoch 45/100\n",
            "11/11 [==============================] - 1s 74ms/step - loss: 0.0070 - mean_absolute_error: 0.0337 - val_loss: 2.8663e-04 - val_mean_absolute_error: 0.0062\n",
            "Epoch 46/100\n",
            "11/11 [==============================] - 1s 56ms/step - loss: 0.0070 - mean_absolute_error: 0.0324 - val_loss: 2.7701e-04 - val_mean_absolute_error: 0.0089\n",
            "Epoch 47/100\n",
            "11/11 [==============================] - 1s 74ms/step - loss: 0.0070 - mean_absolute_error: 0.0339 - val_loss: 2.9696e-04 - val_mean_absolute_error: 0.0068\n",
            "Epoch 48/100\n",
            "11/11 [==============================] - 1s 99ms/step - loss: 0.0070 - mean_absolute_error: 0.0327 - val_loss: 2.7040e-04 - val_mean_absolute_error: 0.0079\n",
            "Epoch 49/100\n",
            "11/11 [==============================] - 1s 102ms/step - loss: 0.0070 - mean_absolute_error: 0.0341 - val_loss: 3.1418e-04 - val_mean_absolute_error: 0.0078\n",
            "Epoch 50/100\n",
            "11/11 [==============================] - 1s 110ms/step - loss: 0.0070 - mean_absolute_error: 0.0339 - val_loss: 2.8281e-04 - val_mean_absolute_error: 0.0100\n",
            "Epoch 51/100\n",
            "11/11 [==============================] - 1s 57ms/step - loss: 0.0071 - mean_absolute_error: 0.0333 - val_loss: 2.7284e-04 - val_mean_absolute_error: 0.0054\n",
            "Epoch 52/100\n",
            "11/11 [==============================] - 1s 62ms/step - loss: 0.0070 - mean_absolute_error: 0.0335 - val_loss: 2.6564e-04 - val_mean_absolute_error: 0.0065\n",
            "Epoch 53/100\n",
            "11/11 [==============================] - 1s 57ms/step - loss: 0.0070 - mean_absolute_error: 0.0327 - val_loss: 2.9683e-04 - val_mean_absolute_error: 0.0069\n",
            "Epoch 54/100\n",
            "11/11 [==============================] - 1s 58ms/step - loss: 0.0070 - mean_absolute_error: 0.0345 - val_loss: 2.7232e-04 - val_mean_absolute_error: 0.0053\n",
            "Epoch 55/100\n",
            "11/11 [==============================] - 1s 58ms/step - loss: 0.0070 - mean_absolute_error: 0.0317 - val_loss: 2.6765e-04 - val_mean_absolute_error: 0.0070\n",
            "Epoch 56/100\n",
            "11/11 [==============================] - 1s 76ms/step - loss: 0.0070 - mean_absolute_error: 0.0351 - val_loss: 3.1719e-04 - val_mean_absolute_error: 0.0078\n",
            "Epoch 57/100\n",
            "11/11 [==============================] - 1s 64ms/step - loss: 0.0069 - mean_absolute_error: 0.0329 - val_loss: 2.8694e-04 - val_mean_absolute_error: 0.0101\n",
            "Epoch 58/100\n",
            "11/11 [==============================] - 1s 60ms/step - loss: 0.0069 - mean_absolute_error: 0.0369 - val_loss: 4.8042e-04 - val_mean_absolute_error: 0.0147\n",
            "Epoch 59/100\n",
            "11/11 [==============================] - 1s 64ms/step - loss: 0.0071 - mean_absolute_error: 0.0341 - val_loss: 4.7703e-04 - val_mean_absolute_error: 0.0194\n",
            "Epoch 60/100\n",
            "11/11 [==============================] - 1s 96ms/step - loss: 0.0071 - mean_absolute_error: 0.0362 - val_loss: 3.3828e-04 - val_mean_absolute_error: 0.0089\n",
            "Epoch 61/100\n",
            "11/11 [==============================] - 1s 102ms/step - loss: 0.0070 - mean_absolute_error: 0.0343 - val_loss: 2.6339e-04 - val_mean_absolute_error: 0.0048\n",
            "Epoch 62/100\n",
            "11/11 [==============================] - 1s 98ms/step - loss: 0.0070 - mean_absolute_error: 0.0322 - val_loss: 2.6314e-04 - val_mean_absolute_error: 0.0073\n",
            "Epoch 63/100\n",
            "11/11 [==============================] - 1s 81ms/step - loss: 0.0069 - mean_absolute_error: 0.0335 - val_loss: 2.9462e-04 - val_mean_absolute_error: 0.0064\n",
            "Epoch 64/100\n",
            "11/11 [==============================] - 1s 59ms/step - loss: 0.0069 - mean_absolute_error: 0.0332 - val_loss: 2.6122e-04 - val_mean_absolute_error: 0.0073\n",
            "Epoch 65/100\n",
            "11/11 [==============================] - 1s 55ms/step - loss: 0.0069 - mean_absolute_error: 0.0329 - val_loss: 2.6531e-04 - val_mean_absolute_error: 0.0046\n",
            "Epoch 66/100\n",
            "11/11 [==============================] - 1s 58ms/step - loss: 0.0070 - mean_absolute_error: 0.0331 - val_loss: 2.5847e-04 - val_mean_absolute_error: 0.0063\n",
            "Epoch 67/100\n",
            "11/11 [==============================] - 1s 60ms/step - loss: 0.0070 - mean_absolute_error: 0.0322 - val_loss: 2.6132e-04 - val_mean_absolute_error: 0.0047\n",
            "Epoch 68/100\n",
            "11/11 [==============================] - 1s 74ms/step - loss: 0.0070 - mean_absolute_error: 0.0333 - val_loss: 2.5846e-04 - val_mean_absolute_error: 0.0056\n",
            "Epoch 69/100\n",
            "11/11 [==============================] - 1s 62ms/step - loss: 0.0070 - mean_absolute_error: 0.0317 - val_loss: 2.6018e-04 - val_mean_absolute_error: 0.0057\n",
            "Epoch 70/100\n",
            "11/11 [==============================] - 1s 68ms/step - loss: 0.0070 - mean_absolute_error: 0.0339 - val_loss: 2.9517e-04 - val_mean_absolute_error: 0.0064\n",
            "Epoch 71/100\n",
            "11/11 [==============================] - 1s 59ms/step - loss: 0.0070 - mean_absolute_error: 0.0324 - val_loss: 2.8201e-04 - val_mean_absolute_error: 0.0103\n",
            "Epoch 72/100\n",
            "11/11 [==============================] - 1s 108ms/step - loss: 0.0069 - mean_absolute_error: 0.0347 - val_loss: 3.3391e-04 - val_mean_absolute_error: 0.0087\n",
            "Epoch 73/100\n",
            "11/11 [==============================] - 1s 96ms/step - loss: 0.0071 - mean_absolute_error: 0.0341 - val_loss: 2.9247e-04 - val_mean_absolute_error: 0.0114\n",
            "Epoch 74/100\n",
            "11/11 [==============================] - 1s 91ms/step - loss: 0.0069 - mean_absolute_error: 0.0329 - val_loss: 2.7629e-04 - val_mean_absolute_error: 0.0051\n",
            "Epoch 75/100\n",
            "11/11 [==============================] - 1s 76ms/step - loss: 0.0070 - mean_absolute_error: 0.0340 - val_loss: 2.6602e-04 - val_mean_absolute_error: 0.0044\n",
            "Epoch 76/100\n",
            "11/11 [==============================] - 1s 80ms/step - loss: 0.0070 - mean_absolute_error: 0.0323 - val_loss: 2.6806e-04 - val_mean_absolute_error: 0.0088\n",
            "Epoch 77/100\n",
            "11/11 [==============================] - 1s 86ms/step - loss: 0.0070 - mean_absolute_error: 0.0336 - val_loss: 2.8039e-04 - val_mean_absolute_error: 0.0054\n",
            "Epoch 78/100\n",
            "11/11 [==============================] - 1s 70ms/step - loss: 0.0069 - mean_absolute_error: 0.0325 - val_loss: 2.5934e-04 - val_mean_absolute_error: 0.0062\n",
            "Epoch 79/100\n",
            "11/11 [==============================] - 1s 81ms/step - loss: 0.0070 - mean_absolute_error: 0.0331 - val_loss: 2.6562e-04 - val_mean_absolute_error: 0.0044\n",
            "Epoch 80/100\n",
            "11/11 [==============================] - 1s 91ms/step - loss: 0.0070 - mean_absolute_error: 0.0323 - val_loss: 2.8074e-04 - val_mean_absolute_error: 0.0103\n",
            "Epoch 81/100\n",
            "11/11 [==============================] - 1s 105ms/step - loss: 0.0070 - mean_absolute_error: 0.0337 - val_loss: 2.7546e-04 - val_mean_absolute_error: 0.0052\n",
            "Epoch 82/100\n",
            "11/11 [==============================] - 1s 124ms/step - loss: 0.0070 - mean_absolute_error: 0.0332 - val_loss: 2.6090e-04 - val_mean_absolute_error: 0.0073\n",
            "Epoch 83/100\n",
            "11/11 [==============================] - 1s 97ms/step - loss: 0.0070 - mean_absolute_error: 0.0327 - val_loss: 2.6300e-04 - val_mean_absolute_error: 0.0050\n",
            "Epoch 84/100\n",
            "11/11 [==============================] - 1s 98ms/step - loss: 0.0069 - mean_absolute_error: 0.0333 - val_loss: 2.7447e-04 - val_mean_absolute_error: 0.0052\n",
            "Epoch 85/100\n",
            "11/11 [==============================] - 1s 103ms/step - loss: 0.0069 - mean_absolute_error: 0.0327 - val_loss: 2.5923e-04 - val_mean_absolute_error: 0.0056\n",
            "Epoch 86/100\n",
            "11/11 [==============================] - 1s 68ms/step - loss: 0.0070 - mean_absolute_error: 0.0339 - val_loss: 2.6543e-04 - val_mean_absolute_error: 0.0083\n",
            "Epoch 87/100\n",
            "11/11 [==============================] - 2s 181ms/step - loss: 0.0070 - mean_absolute_error: 0.0324 - val_loss: 2.7532e-04 - val_mean_absolute_error: 0.0051\n",
            "Epoch 88/100\n",
            "11/11 [==============================] - 2s 161ms/step - loss: 0.0070 - mean_absolute_error: 0.0341 - val_loss: 2.9563e-04 - val_mean_absolute_error: 0.0116\n",
            "Epoch 89/100\n",
            "11/11 [==============================] - 2s 147ms/step - loss: 0.0070 - mean_absolute_error: 0.0327 - val_loss: 2.8303e-04 - val_mean_absolute_error: 0.0058\n",
            "Epoch 90/100\n",
            "11/11 [==============================] - 1s 100ms/step - loss: 0.0070 - mean_absolute_error: 0.0354 - val_loss: 2.5829e-04 - val_mean_absolute_error: 0.0061\n",
            "Epoch 91/100\n",
            "11/11 [==============================] - 2s 157ms/step - loss: 0.0070 - mean_absolute_error: 0.0307 - val_loss: 2.5980e-04 - val_mean_absolute_error: 0.0067\n",
            "Epoch 92/100\n",
            "11/11 [==============================] - 1s 111ms/step - loss: 0.0069 - mean_absolute_error: 0.0348 - val_loss: 2.5895e-04 - val_mean_absolute_error: 0.0060\n",
            "Epoch 93/100\n",
            "11/11 [==============================] - 2s 156ms/step - loss: 0.0069 - mean_absolute_error: 0.0325 - val_loss: 2.6446e-04 - val_mean_absolute_error: 0.0047\n",
            "Epoch 94/100\n",
            "11/11 [==============================] - 1s 87ms/step - loss: 0.0068 - mean_absolute_error: 0.0335 - val_loss: 2.6692e-04 - val_mean_absolute_error: 0.0047\n",
            "Epoch 95/100\n",
            "11/11 [==============================] - 1s 114ms/step - loss: 0.0070 - mean_absolute_error: 0.0332 - val_loss: 2.6415e-04 - val_mean_absolute_error: 0.0083\n",
            "Epoch 96/100\n",
            "11/11 [==============================] - 1s 102ms/step - loss: 0.0068 - mean_absolute_error: 0.0324 - val_loss: 2.8451e-04 - val_mean_absolute_error: 0.0057\n",
            "Epoch 97/100\n",
            "11/11 [==============================] - 2s 152ms/step - loss: 0.0070 - mean_absolute_error: 0.0358 - val_loss: 3.8298e-04 - val_mean_absolute_error: 0.0162\n",
            "Epoch 98/100\n",
            "11/11 [==============================] - 1s 65ms/step - loss: 0.0071 - mean_absolute_error: 0.0323 - val_loss: 3.2206e-04 - val_mean_absolute_error: 0.0080\n",
            "Epoch 99/100\n",
            "11/11 [==============================] - 1s 60ms/step - loss: 0.0073 - mean_absolute_error: 0.0389 - val_loss: 5.1500e-04 - val_mean_absolute_error: 0.0205\n",
            "Epoch 100/100\n",
            "11/11 [==============================] - 1s 78ms/step - loss: 0.0070 - mean_absolute_error: 0.0325 - val_loss: 3.4765e-04 - val_mean_absolute_error: 0.0094\n"
          ]
        }
      ]
    },
    {
      "cell_type": "code",
      "source": [
        "ypred= model.predict(test_generator)"
      ],
      "metadata": {
        "colab": {
          "base_uri": "https://localhost:8080/"
        },
        "id": "intO5AvgTcKJ",
        "outputId": "26995244-0a9a-43c8-f084-5b899b01c140"
      },
      "execution_count": 26,
      "outputs": [
        {
          "output_type": "stream",
          "name": "stdout",
          "text": [
            "4/4 [==============================] - 5s 12ms/step\n"
          ]
        }
      ]
    },
    {
      "cell_type": "code",
      "source": [
        "pred_data = pd.concat([pd.DataFrame(ypred), pd.DataFrame(xtest[:, 1:][win_len:]) ], axis=1)"
      ],
      "metadata": {
        "id": "_DyUql8MTi5N"
      },
      "execution_count": 27,
      "outputs": []
    },
    {
      "cell_type": "code",
      "source": [
        "plt.plot(ytest)\n",
        "plt.plot(ypred)\n",
        "plt.show()"
      ],
      "metadata": {
        "colab": {
          "base_uri": "https://localhost:8080/",
          "height": 430
        },
        "id": "7l0tPMb7TlA4",
        "outputId": "0265983a-084b-4b77-f741-eb4241ff7260"
      },
      "execution_count": 28,
      "outputs": [
        {
          "output_type": "display_data",
          "data": {
            "text/plain": [
              "<Figure size 640x480 with 1 Axes>"
            ],
            "image/png": "[encoded data removed]"
          },
          "metadata": {}
        }
      ]
    },
    {
      "cell_type": "code",
      "source": [
        "ai_ml = pd.DataFrame(xtest[:, 1:][win_len:])\n",
        "ai_ml"
      ],
      "metadata": {
        "id": "Cx6kCIZxTpPJ"
      },
      "execution_count": null,
      "outputs": []
    },
    {
      "cell_type": "code",
      "source": [
        "final_data = scaler.inverse_transform(pred_data)\n",
        "final_data"
      ],
      "metadata": {
        "id": "1vH-ZjAeT9ah"
      },
      "execution_count": null,
      "outputs": []
    },
    {
      "cell_type": "code",
      "source": [
        "df_main= input_data[ypred.shape[0]*-1:]\n",
        "df_main.count()"
      ],
      "metadata": {
        "colab": {
          "base_uri": "https://localhost:8080/"
        },
        "id": "cBIP3QobT-CI",
        "outputId": "95cc6dca-f0cf-4818-bf23-c6d85f1342c7"
      },
      "execution_count": 30,
      "outputs": [
        {
          "output_type": "execute_result",
          "data": {
            "text/plain": [
              "MAX_TEMP           104\n",
              "MIN_TEMP           104\n",
              "RAINFALL_24_HRS    104\n",
              "dtype: int64"
            ]
          },
          "metadata": {},
          "execution_count": 30
        }
      ]
    },
    {
      "cell_type": "code",
      "source": [
        "df_main['Rain_pred'] = final_data[:, 0]\n",
        "df_main"
      ],
      "metadata": {
        "colab": {
          "base_uri": "https://localhost:8080/",
          "height": 548
        },
        "id": "PoCTUmefUNcb",
        "outputId": "12ee6033-1a94-427b-dbd1-86e75e5ee011"
      },
      "execution_count": 32,
      "outputs": [
        {
          "output_type": "stream",
          "name": "stderr",
          "text": [
            "<ipython-input-32-51da5eee85db>:1: SettingWithCopyWarning: \n",
            "A value is trying to be set on a copy of a slice from a DataFrame.\n",
            "Try using .loc[row_indexer,col_indexer] = value instead\n",
            "\n",
            "See the caveats in the documentation: https://pandas.pydata.org/pandas-docs/stable/user_guide/indexing.html#returning-a-view-versus-a-copy\n",
            "  df_main['Rain_pred'] = final_data[:, 0]\n"
          ]
        },
        {
          "output_type": "execute_result",
          "data": {
            "text/plain": [
              "     MAX_TEMP  MIN_TEMP  RAINFALL_24_HRS  Rain_pred\n",
              "352      21.4       7.4              0.0  16.821699\n",
              "353      21.7       6.6              0.0  16.841109\n",
              "354      23.4       7.2              0.0  16.885217\n",
              "355      24.5       7.1              0.0  16.995563\n",
              "356      25.6       8.4              0.0  16.988840\n",
              "..        ...       ...              ...        ...\n",
              "451      33.7      17.0              0.0  16.961113\n",
              "452      36.8      18.4              0.0  16.872852\n",
              "453      38.9      19.2              0.0  16.829855\n",
              "454      41.0      20.0              0.0  16.850656\n",
              "455      40.2      21.0              0.0  17.007437\n",
              "\n",
              "[104 rows x 4 columns]"
            ],
            "text/html": [
              "\n",
              "  <div id=\"df-4f30d1a6-7f20-4d0a-b475-cc7ce5b42e79\">\n",
              "    <div class=\"colab-df-container\">\n",
              "      <div>\n",
              "<style scoped>\n",
              "    .dataframe tbody tr th:only-of-type {\n",
              "        vertical-align: middle;\n",
              "    }\n",
              "\n",
              "    .dataframe tbody tr th {\n",
              "        vertical-align: top;\n",
              "    }\n",
              "\n",
              "    .dataframe thead th {\n",
              "        text-align: right;\n",
              "    }\n",
              "</style>\n",
              "<table border=\"1\" class=\"dataframe\">\n",
              "  <thead>\n",
              "    <tr style=\"text-align: right;\">\n",
              "      <th></th>\n",
              "      <th>MAX_TEMP</th>\n",
              "      <th>MIN_TEMP</th>\n",
              "      <th>RAINFALL_24_HRS</th>\n",
              "      <th>Rain_pred</th>\n",
              "    </tr>\n",
              "  </thead>\n",
              "  <tbody>\n",
              "    <tr>\n",
              "      <th>352</th>\n",
              "      <td>21.4</td>\n",
              "      <td>7.4</td>\n",
              "      <td>0.0</td>\n",
              "      <td>16.821699</td>\n",
              "    </tr>\n",
              "    <tr>\n",
              "      <th>353</th>\n",
              "      <td>21.7</td>\n",
              "      <td>6.6</td>\n",
              "      <td>0.0</td>\n",
              "      <td>16.841109</td>\n",
              "    </tr>\n",
              "    <tr>\n",
              "      <th>354</th>\n",
              "      <td>23.4</td>\n",
              "      <td>7.2</td>\n",
              "      <td>0.0</td>\n",
              "      <td>16.885217</td>\n",
              "    </tr>\n",
              "    <tr>\n",
              "      <th>355</th>\n",
              "      <td>24.5</td>\n",
              "      <td>7.1</td>\n",
              "      <td>0.0</td>\n",
              "      <td>16.995563</td>\n",
              "    </tr>\n",
              "    <tr>\n",
              "      <th>356</th>\n",
              "      <td>25.6</td>\n",
              "      <td>8.4</td>\n",
              "      <td>0.0</td>\n",
              "      <td>16.988840</td>\n",
              "    </tr>\n",
              "    <tr>\n",
              "      <th>...</th>\n",
              "      <td>...</td>\n",
              "      <td>...</td>\n",
              "      <td>...</td>\n",
              "      <td>...</td>\n",
              "    </tr>\n",
              "    <tr>\n",
              "      <th>451</th>\n",
              "      <td>33.7</td>\n",
              "      <td>17.0</td>\n",
              "      <td>0.0</td>\n",
              "      <td>16.961113</td>\n",
              "    </tr>\n",
              "    <tr>\n",
              "      <th>452</th>\n",
              "      <td>36.8</td>\n",
              "      <td>18.4</td>\n",
              "      <td>0.0</td>\n",
              "      <td>16.872852</td>\n",
              "    </tr>\n",
              "    <tr>\n",
              "      <th>453</th>\n",
              "      <td>38.9</td>\n",
              "      <td>19.2</td>\n",
              "      <td>0.0</td>\n",
              "      <td>16.829855</td>\n",
              "    </tr>\n",
              "    <tr>\n",
              "      <th>454</th>\n",
              "      <td>41.0</td>\n",
              "      <td>20.0</td>\n",
              "      <td>0.0</td>\n",
              "      <td>16.850656</td>\n",
              "    </tr>\n",
              "    <tr>\n",
              "      <th>455</th>\n",
              "      <td>40.2</td>\n",
              "      <td>21.0</td>\n",
              "      <td>0.0</td>\n",
              "      <td>17.007437</td>\n",
              "    </tr>\n",
              "  </tbody>\n",
              "</table>\n",
              "<p>104 rows × 4 columns</p>\n",
              "</div>\n",
              "      <button class=\"colab-df-convert\" onclick=\"convertToInteractive('df-4f30d1a6-7f20-4d0a-b475-cc7ce5b42e79')\"\n",
              "              title=\"Convert this dataframe to an interactive table.\"\n",
              "              style=\"display:none;\">\n",
              "        \n",
              "  <svg xmlns=\"http://www.w3.org/2000/svg\" height=\"24px\"viewBox=\"0 0 24 24\"\n",
              "       width=\"24px\">\n",
              "    <path d=\"M0 0h24v24H0V0z\" fill=\"none\"/>\n",
              "    <path d=\"M18.56 5.44l.94 2.06.94-2.06 2.06-.94-2.06-.94-.94-2.06-.94 2.06-2.06.94zm-11 1L8.5 8.5l.94-2.06 2.06-.94-2.06-.94L8.5 2.5l-.94 2.06-2.06.94zm10 10l.94 2.06.94-2.06 2.06-.94-2.06-.94-.94-2.06-.94 2.06-2.06.94z\"/><path d=\"M17.41 7.96l-1.37-1.37c-.4-.4-.92-.59-1.43-.59-.52 0-1.04.2-1.43.59L10.3 9.45l-7.72 7.72c-.78.78-.78 2.05 0 2.83L4 21.41c.39.39.9.59 1.41.59.51 0 1.02-.2 1.41-.59l7.78-7.78 2.81-2.81c.8-.78.8-2.07 0-2.86zM5.41 20L4 18.59l7.72-7.72 1.47 1.35L5.41 20z\"/>\n",
              "  </svg>\n",
              "      </button>\n",
              "      \n",
              "  <style>\n",
              "    .colab-df-container {\n",
              "      display:flex;\n",
              "      flex-wrap:wrap;\n",
              "      gap: 12px;\n",
              "    }\n",
              "\n",
              "    .colab-df-convert {\n",
              "      background-color: #E8F0FE;\n",
              "      border: none;\n",
              "      border-radius: 50%;\n",
              "      cursor: pointer;\n",
              "      display: none;\n",
              "      fill: #1967D2;\n",
              "      height: 32px;\n",
              "      padding: 0 0 0 0;\n",
              "      width: 32px;\n",
              "    }\n",
              "\n",
              "    .colab-df-convert:hover {\n",
              "      background-color: #E2EBFA;\n",
              "      box-shadow: 0px 1px 2px rgba(60, 64, 67, 0.3), 0px 1px 3px 1px rgba(60, 64, 67, 0.15);\n",
              "      fill: #174EA6;\n",
              "    }\n",
              "\n",
              "    [theme=dark] .colab-df-convert {\n",
              "      background-color: #3B4455;\n",
              "      fill: #D2E3FC;\n",
              "    }\n",
              "\n",
              "    [theme=dark] .colab-df-convert:hover {\n",
              "      background-color: #434B5C;\n",
              "      box-shadow: 0px 1px 3px 1px rgba(0, 0, 0, 0.15);\n",
              "      filter: drop-shadow(0px 1px 2px rgba(0, 0, 0, 0.3));\n",
              "      fill: #FFFFFF;\n",
              "    }\n",
              "  </style>\n",
              "\n",
              "      <script>\n",
              "        const buttonEl =\n",
              "          document.querySelector('#df-4f30d1a6-7f20-4d0a-b475-cc7ce5b42e79 button.colab-df-convert');\n",
              "        buttonEl.style.display =\n",
              "          google.colab.kernel.accessAllowed ? 'block' : 'none';\n",
              "\n",
              "        async function convertToInteractive(key) {\n",
              "          const element = document.querySelector('#df-4f30d1a6-7f20-4d0a-b475-cc7ce5b42e79');\n",
              "          const dataTable =\n",
              "            await google.colab.kernel.invokeFunction('convertToInteractive',\n",
              "                                                     [key], {});\n",
              "          if (!dataTable) return;\n",
              "\n",
              "          const docLinkHtml = 'Like what you see? Visit the ' +\n",
              "            '<a target=\"_blank\" href=https://colab.research.google.com/notebooks/data_table.ipynb>data table notebook</a>'\n",
              "            + ' to learn more about interactive tables.';\n",
              "          element.innerHTML = '';\n",
              "          dataTable['output_type'] = 'display_data';\n",
              "          await google.colab.output.renderOutput(dataTable, element);\n",
              "          const docLink = document.createElement('div');\n",
              "          docLink.innerHTML = docLinkHtml;\n",
              "          element.appendChild(docLink);\n",
              "        }\n",
              "      </script>\n",
              "    </div>\n",
              "  </div>\n",
              "  "
            ]
          },
          "metadata": {},
          "execution_count": 32
        }
      ]
    },
    {
      "cell_type": "code",
      "source": [
        "df_main[['RAINFALL_24_HRS', 'Rain_pred']].plot()"
      ],
      "metadata": {
        "colab": {
          "base_uri": "https://localhost:8080/",
          "height": 447
        },
        "id": "KU2H5dsEUXaO",
        "outputId": "1f350edd-c987-4c11-df90-4601448a661c"
      },
      "execution_count": 33,
      "outputs": [
        {
          "output_type": "execute_result",
          "data": {
            "text/plain": [
              "<Axes: >"
            ]
          },
          "metadata": {},
          "execution_count": 33
        },
        {
          "output_type": "display_data",
          "data": {
            "text/plain": [
              "<Figure size 640x480 with 1 Axes>"
            ],
            "image/png": "[encoded data removed]"
          },
          "metadata": {}
        }
      ]
    },
    {
      "cell_type": "markdown",
      "source": [
        "# [Jay Nakum](https://jaynakum.github.io) [20BCP304D]"
      ],
      "metadata": {
        "id": "xe9Nbox3Uxm8"
      }
    }
  ]
}